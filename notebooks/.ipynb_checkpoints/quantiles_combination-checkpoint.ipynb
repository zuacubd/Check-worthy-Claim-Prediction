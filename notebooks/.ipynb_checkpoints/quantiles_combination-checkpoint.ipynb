{
 "cells": [
  {
   "cell_type": "code",
   "execution_count": null,
   "metadata": {},
   "outputs": [],
   "source": [
    "features = ['NLCW-Q1','NLCW-Q2','NLCW-Q3','NLCW-Q4','NLCW-Q1Q2','NLCW-Q1Q3',\n",
    "            'NLCW-Q1Q4','NLCW-Q2Q3','NLCW-Q2Q4','NLCW-Q3Q4','NLCW-Q1Q2Q3','NLCW-Q1Q2Q4','NLCW-Q1Q3Q4','NLCW-Q2Q3Q4','NLCW-Q1Q2Q3Q4']\n",
    "gold_files = ['task1-en-file1.txt', 'task1-en-file2.txt', 'task1-en-file3.txt', 'task1-en-file4.txt', 'task1-en-file5.txt', 'task1-en-file6.txt', 'task1-en-file7.txt']\n",
    "output_files = ['task1-en-file1_random_forest_balanced.txt','task1-en-file2_random_forest_balanced.txt','task1-en-file3_random_forest_balanced.txt','task1-en-file4_random_forest_balanced.txt','task1-en-file5_random_forest_balanced.txt','task1-en-file6_random_forest_balanced.txt','task1-en-file7_random_forest_balanced.txt']\n",
    "root_dir = \"/projets/sig/mullah/nlp/checkthat18\"\n",
    "fold = \"test\"\n",
    "\n",
    "for feature in features:\n",
    "    print (\"#Feature:{}\".format(feature))\n",
    "    line = \"python app/eval/scorer/task1.py --gold_file_path=\"\n",
    "    for gdx in range(0, len(gold_files)-1):\n",
    "        line = line + root_dir+\"/data/raw/task1_gold/English/\"+gold_files[gdx]+\",\"\n",
    "    line = line + root_dir+\"/data/raw/task1_gold/English/\"+gold_files[len(gold_files)-1]\n",
    "    \n",
    "    line = line + \" --pred_file_path=\"\n",
    "    for odx in range(0, len(output_files)-1):\n",
    "        line = line + root_dir+\"/output/\"+fold+\"/\"+feature+\"/\"+output_files[odx]+\",\"\n",
    "    line = line + root_dir+\"/output/\"+fold+\"/\"+feature+\"/\"+output_files[len(output_files)-1]\n",
    "    print (line)\n",
    "           \n",
    "#print (\"python clef2018-factchecking/scorer/task1.py --gold_file_path={}+\"/data/raw/task1_gold/English/task1-en-file1.txt,\"+root_dir+\"/data/raw/task1_gold/English/task1-en-file2.txt,\"+root_dir+\"/data/raw/task1_gold/English/task1-en-file3.txt,\"+root_dir+\"/data/raw/task1_gold/English/task1-en-file4.txt,\"+root_dir+\"/data/raw/task1_gold/English/task1-en-file5.txt,\"+root_dir+\"/data/raw/task1_gold/English/task1-en-file6.txt,\"+root_dir+\"/data/raw/task1_gold/English/task1-en-file7.txt\" \n",
    "#--pred_file_path= root_dir + \"/output/\"+fold+\"/NW/task1-en-file1_random_forest_balanced.txt,\"+root_dir + \"/output/\"+fold+\"/NW/task1-en-file2_random_forest_balanced.txt,\"+root_dir + \"/output/\"+fold+\"/NW/task1-en-file3_random_forest_balanced.txt,\"+root_dir + \"/output/\"+fold+\"/NW/task1-en-file4_random_forest_balanced.txt,\"+root_dir + \"/output/\"+fold+\"/NW/task1-en-file5_random_forest_balanced.txt,\"+root_dir + \"/output/\"+fold+\"/NW/task1-en-file6_random_forest_balanced.txt,\"+root_dir + \"/output/\"+fold+\"/NW/task1-en-file7_random_forest_balanced.txt\"\n"
   ]
  }
 ],
 "metadata": {
  "kernelspec": {
   "display_name": "Python3.6 (TorchCuda11)",
   "language": "python",
   "name": "env36tc11"
  },
  "language_info": {
   "codemirror_mode": {
    "name": "ipython",
    "version": 3
   },
   "file_extension": ".py",
   "mimetype": "text/x-python",
   "name": "python",
   "nbconvert_exporter": "python",
   "pygments_lexer": "ipython3",
   "version": "3.6.12"
  }
 },
 "nbformat": 4,
 "nbformat_minor": 4
}
